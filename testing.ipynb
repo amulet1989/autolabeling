{
 "cells": [
  {
   "cell_type": "code",
   "execution_count": 4,
   "metadata": {},
   "outputs": [
    {
     "name": "stdout",
     "output_type": "stream",
     "text": [
      "The autoreload extension is already loaded. To reload it, use:\n",
      "  %reload_ext autoreload\n"
     ]
    }
   ],
   "source": [
    "%load_ext autoreload\n",
    "%autoreload 2"
   ]
  },
  {
   "cell_type": "code",
   "execution_count": 24,
   "metadata": {},
   "outputs": [],
   "source": [
    "from src import config\n",
    "from src.util import video2images"
   ]
  },
  {
   "cell_type": "code",
   "execution_count": 16,
   "metadata": {},
   "outputs": [
    {
     "data": {
      "text/plain": [
       "'d:\\\\Alexander\\\\Go2Future\\\\Autolabel_roboflow\\\\images'"
      ]
     },
     "execution_count": 16,
     "metadata": {},
     "output_type": "execute_result"
    }
   ],
   "source": [
    "config.HOME\n",
    "config.IMAGE_DIR_PATH\n"
   ]
  },
  {
   "cell_type": "code",
   "execution_count": 25,
   "metadata": {},
   "outputs": [
    {
     "name": "stderr",
     "output_type": "stream",
     "text": [
      "2023-08-18 23:34:04,993 - INFO - Converting 3 videos to images...\n",
      "100%|██████████| 3/3 [00:32<00:00, 10.94s/it]\n",
      "2023-08-18 23:34:37,830 - INFO - Converted 20 images.\n"
     ]
    }
   ],
   "source": [
    "video2images(config.VIDEO_DIR_PATH, config.IMAGE_DIR_PATH, frame_rate=200)"
   ]
  },
  {
   "cell_type": "code",
   "execution_count": null,
   "metadata": {},
   "outputs": [],
   "source": [
    "  # 2- Run autolabel model\n",
    "    autolabel_images(\n",
    "        input_folder=args.image_dir,\n",
    "        ontology=json.load(open(args.ontology)),\n",
    "        box_threshold=args.box_threshold,\n",
    "        text_threshold=args.text_threshold,\n",
    "        output_folder=args.output_images,\n",
    "        extension=args.extension,\n",
    "    )"
   ]
  }
 ],
 "metadata": {
  "kernelspec": {
   "display_name": ".venv",
   "language": "python",
   "name": "python3"
  },
  "language_info": {
   "codemirror_mode": {
    "name": "ipython",
    "version": 3
   },
   "file_extension": ".py",
   "mimetype": "text/x-python",
   "name": "python",
   "nbconvert_exporter": "python",
   "pygments_lexer": "ipython3",
   "version": "3.11.3"
  },
  "orig_nbformat": 4
 },
 "nbformat": 4,
 "nbformat_minor": 2
}
