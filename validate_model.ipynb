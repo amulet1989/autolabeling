{
 "cells": [
  {
   "cell_type": "code",
   "execution_count": 1,
   "metadata": {},
   "outputs": [],
   "source": [
    "from ultralytics import YOLO\n",
    "import matplotlib.pyplot as plt\n"
   ]
  },
  {
   "cell_type": "code",
   "execution_count": null,
   "metadata": {},
   "outputs": [],
   "source": [
    "# Load a model\n",
    "model = YOLO('trained_models/yolov8m_640x480_cf_9cam_v20.pt')  # load a custom model -yolov8m_4cam_imgsz704 - yolov8m_640x480_cf_9cam_v2\n",
    "data='dataset/CF_9cam_with_val_640x480_corrected/data.yaml'\n",
    "# Validate the model\n",
    "metrics = model.val(data=data, \n",
    "                    imgsz=640, \n",
    "                    conf=0.4, \n",
    "                    iou=0.7, \n",
    "                    plots=True, \n",
    "                    max_det=300, \n",
    "                    save_hybrid=True,\n",
    "                    )  # no arguments needed, dataset and settings remembered\n"
   ]
  },
  {
   "cell_type": "code",
   "execution_count": 3,
   "metadata": {},
   "outputs": [
    {
     "name": "stdout",
     "output_type": "stream",
     "text": [
      "0.9949999999999999\n",
      "0.995\n",
      "0.995\n"
     ]
    }
   ],
   "source": [
    "print(metrics.box.map)   # map50-95\n",
    "print(metrics.box.map50)  # map50\n",
    "print(metrics.box.map75) # map75\n"
   ]
  },
  {
   "cell_type": "code",
   "execution_count": 6,
   "metadata": {},
   "outputs": [],
   "source": [
    "metrics.confusion_matrix.plot()"
   ]
  }
 ],
 "metadata": {
  "kernelspec": {
   "display_name": "trainyolo",
   "language": "python",
   "name": "python3"
  },
  "language_info": {
   "codemirror_mode": {
    "name": "ipython",
    "version": 3
   },
   "file_extension": ".py",
   "mimetype": "text/x-python",
   "name": "python",
   "nbconvert_exporter": "python",
   "pygments_lexer": "ipython3",
   "version": "3.11.3"
  }
 },
 "nbformat": 4,
 "nbformat_minor": 2
}
